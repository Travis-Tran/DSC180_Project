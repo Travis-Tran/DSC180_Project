{
 "cells": [
  {
   "cell_type": "markdown",
   "id": "6e598c4d",
   "metadata": {},
   "source": [
    "## Note\n",
    "#### dependencies\n",
    "xarray, rioxarray, dask, rasterio, geopandas, requests\n",
    "\n",
    "#### versions:\n",
    "s3fs==0.5.1, fsspec==0.8.3, fastfuels==1.0.1"
   ]
  },
  {
   "cell_type": "code",
   "execution_count": 1,
   "id": "0a803d4a",
   "metadata": {},
   "outputs": [],
   "source": [
    "%load_ext autoreload\n",
    "%autoreload 2"
   ]
  },
  {
   "cell_type": "code",
   "execution_count": 2,
   "id": "4bdeaded",
   "metadata": {},
   "outputs": [],
   "source": [
    "from WifireFT import LandFire"
   ]
  },
  {
   "cell_type": "code",
   "execution_count": 3,
   "id": "fa9fc13f",
   "metadata": {},
   "outputs": [
    {
     "data": {
      "text/plain": [
       "{'CH': [210, 200, 140, 130, 120, 110, 105],\n",
       " 'CC': [210, 200, 140, 130, 120, 110, 105],\n",
       " 'CBD': [210, 200, 140, 130, 120, 110, 105],\n",
       " 'CBH': [210, 200, 140, 130, 120, 110, 105],\n",
       " 'FBFM40': [210, 200, 140, 130, 120, 110, 105],\n",
       " 'FBFM13': [120, 110, 105],\n",
       " 'EVT': [120, 110, 105]}"
      ]
     },
     "execution_count": 3,
     "metadata": {},
     "output_type": "execute_result"
    }
   ],
   "source": [
    "bpath=\"https://wifire-data.sdsc.edu/data/landfire/\"\n",
    "\n",
    "mylf=LandFire(bpath=bpath, bpath_type=\"http\")\n",
    "mylf.avail_cog"
   ]
  },
  {
   "cell_type": "code",
   "execution_count": 17,
   "id": "eecddcda",
   "metadata": {},
   "outputs": [],
   "source": [
    "lat = 39.871306\n",
    "lon = -121.389439\n",
    "radius= 500"
   ]
  },
  {
   "cell_type": "code",
   "execution_count": 86,
   "id": "dff7a576",
   "metadata": {},
   "outputs": [],
   "source": [
    "src=mylf.read_dataset(210,'CH', chunks=\"auto\", masked=True)\n",
    "srcclip=mylf.query(src, lon, lat, radius)"
   ]
  },
  {
   "cell_type": "code",
   "execution_count": 68,
   "id": "8a8df213",
   "metadata": {},
   "outputs": [
    {
     "name": "stdout",
     "output_type": "stream",
     "text": [
      "\n"
     ]
    }
   ],
   "source": [
    "'''\n",
    "CH: canopy height\n",
    "CC: canopy cover\n",
    "CBD: canopy bulk density\n",
    "CBH: canopy base height\n",
    "FBFM40: 40 Scott and Burgan Fire Behavior Fuel Model\n",
    "FBFM13: 13 Anderson Fire Behavior Fuel Models\n",
    "EVT: existing vegetation type\n",
    "'''\n",
    "print()"
   ]
  },
  {
   "cell_type": "code",
   "execution_count": null,
   "id": "04f9f8d0",
   "metadata": {},
   "outputs": [],
   "source": []
  },
  {
   "cell_type": "code",
   "execution_count": null,
   "id": "160b523d",
   "metadata": {},
   "outputs": [],
   "source": []
  },
  {
   "cell_type": "code",
   "execution_count": null,
   "id": "dc177dbc",
   "metadata": {},
   "outputs": [],
   "source": []
  },
  {
   "cell_type": "markdown",
   "id": "ed3121c0",
   "metadata": {},
   "source": [
    "## EDA"
   ]
  },
  {
   "cell_type": "code",
   "execution_count": 19,
   "id": "89ac54d8",
   "metadata": {},
   "outputs": [
    {
     "data": {
      "text/plain": [
       "(1, 34, 34)"
      ]
     },
     "execution_count": 19,
     "metadata": {},
     "output_type": "execute_result"
    }
   ],
   "source": [
    "srcclip.shape"
   ]
  },
  {
   "cell_type": "code",
   "execution_count": 20,
   "id": "09e59dc1",
   "metadata": {},
   "outputs": [
    {
     "data": {
      "text/plain": [
       "1156"
      ]
     },
     "execution_count": 20,
     "metadata": {},
     "output_type": "execute_result"
    }
   ],
   "source": [
    "srcclip.size"
   ]
  },
  {
   "cell_type": "code",
   "execution_count": 21,
   "id": "bae48722",
   "metadata": {},
   "outputs": [
    {
     "data": {
      "text/plain": [
       "1156"
      ]
     },
     "execution_count": 21,
     "metadata": {},
     "output_type": "execute_result"
    }
   ],
   "source": [
    "34*34"
   ]
  },
  {
   "cell_type": "code",
   "execution_count": null,
   "id": "6f812a43",
   "metadata": {},
   "outputs": [],
   "source": []
  },
  {
   "cell_type": "code",
   "execution_count": 52,
   "id": "77e90886",
   "metadata": {},
   "outputs": [
    {
     "data": {
      "text/plain": [
       "-990.0"
      ]
     },
     "execution_count": 52,
     "metadata": {},
     "output_type": "execute_result"
    }
   ],
   "source": [
    "a, b = srcclip.x.data.min(), srcclip.x.data.max()\n",
    "a- b"
   ]
  },
  {
   "cell_type": "code",
   "execution_count": 51,
   "id": "0ff729a3",
   "metadata": {},
   "outputs": [
    {
     "data": {
      "text/plain": [
       "990.0"
      ]
     },
     "execution_count": 51,
     "metadata": {},
     "output_type": "execute_result"
    }
   ],
   "source": [
    "c, d = srcclip.y.data.max(), srcclip.y.data.min()\n",
    "c- d"
   ]
  },
  {
   "cell_type": "code",
   "execution_count": null,
   "id": "5dd8e355",
   "metadata": {},
   "outputs": [],
   "source": []
  },
  {
   "cell_type": "code",
   "execution_count": 53,
   "id": "ed99bc24",
   "metadata": {
    "scrolled": true
   },
   "outputs": [
    {
     "data": {
      "text/plain": [
       "(1, 34, 34)"
      ]
     },
     "execution_count": 53,
     "metadata": {},
     "output_type": "execute_result"
    }
   ],
   "source": [
    "srcclip.data.shape"
   ]
  },
  {
   "cell_type": "code",
   "execution_count": 45,
   "id": "2365748f",
   "metadata": {
    "scrolled": true
   },
   "outputs": [
    {
     "data": {
      "text/plain": [
       "390.0"
      ]
     },
     "execution_count": 45,
     "metadata": {},
     "output_type": "execute_result"
    }
   ],
   "source": [
    "srcclip.data.max()"
   ]
  },
  {
   "cell_type": "code",
   "execution_count": 58,
   "id": "6bd851dc",
   "metadata": {},
   "outputs": [
    {
     "data": {
      "text/plain": [
       "array([[[  0.,   0.,   0., ...,   0.,   0.,   0.],\n",
       "        [  0.,   0.,   0., ...,   0., 150., 110.],\n",
       "        [  0.,   0.,   0., ..., 230., 230., 310.],\n",
       "        ...,\n",
       "        [270., 230., 190., ..., 350., 190., 270.],\n",
       "        [270., 230., 150., ..., 190., 190., 230.],\n",
       "        [230., 230., 110., ..., 150., 310., 270.]]], dtype=float32)"
      ]
     },
     "execution_count": 58,
     "metadata": {},
     "output_type": "execute_result"
    }
   ],
   "source": [
    "srcclip.data"
   ]
  },
  {
   "cell_type": "code",
   "execution_count": null,
   "id": "09ffe6ba",
   "metadata": {},
   "outputs": [],
   "source": []
  },
  {
   "cell_type": "code",
   "execution_count": 75,
   "id": "3c027640",
   "metadata": {},
   "outputs": [
    {
     "data": {
      "text/plain": [
       "34"
      ]
     },
     "execution_count": 75,
     "metadata": {},
     "output_type": "execute_result"
    }
   ],
   "source": [
    "srcclip.y.data.size"
   ]
  },
  {
   "cell_type": "code",
   "execution_count": 70,
   "id": "f45db757",
   "metadata": {},
   "outputs": [
    {
     "data": {
      "text/plain": [
       "array([2158860., 2158830., 2158800., 2158770., 2158740., 2158710.,\n",
       "       2158680., 2158650., 2158620., 2158590., 2158560., 2158530.,\n",
       "       2158500., 2158470., 2158440., 2158410., 2158380., 2158350.,\n",
       "       2158320., 2158290., 2158260., 2158230., 2158200., 2158170.,\n",
       "       2158140., 2158110., 2158080., 2158050., 2158020., 2157990.,\n",
       "       2157960., 2157930., 2157900., 2157870.])"
      ]
     },
     "execution_count": 70,
     "metadata": {},
     "output_type": "execute_result"
    }
   ],
   "source": [
    "srcclip.y.data"
   ]
  },
  {
   "cell_type": "code",
   "execution_count": 73,
   "id": "ae10ba66",
   "metadata": {},
   "outputs": [
    {
     "data": {
      "text/plain": [
       "30.0"
      ]
     },
     "execution_count": 73,
     "metadata": {},
     "output_type": "execute_result"
    }
   ],
   "source": [
    "srcclip.y.data[0] - srcclip.y.data[1]"
   ]
  }
 ],
 "metadata": {
  "kernelspec": {
   "display_name": "Python 3 (ipykernel)",
   "language": "python",
   "name": "python3"
  },
  "language_info": {
   "codemirror_mode": {
    "name": "ipython",
    "version": 3
   },
   "file_extension": ".py",
   "mimetype": "text/x-python",
   "name": "python",
   "nbconvert_exporter": "python",
   "pygments_lexer": "ipython3",
   "version": "3.7.11"
  }
 },
 "nbformat": 4,
 "nbformat_minor": 5
}
